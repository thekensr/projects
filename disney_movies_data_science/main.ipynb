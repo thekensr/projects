{
 "cells": [
  {
   "cell_type": "code",
   "execution_count": 6,
   "metadata": {},
   "outputs": [],
   "source": [
    "from bs4 import BeautifulSoup as bs\n",
    "import requests"
   ]
  },
  {
   "cell_type": "code",
   "execution_count": 118,
   "metadata": {},
   "outputs": [],
   "source": [
    "class Movie:\n",
    "    def __init__(self, url):\n",
    "        self.attrs = dictionarize(url)\n",
    "        \n",
    "    def get(self, key):\n",
    "        return self.attrs[key]\n",
    "    \n",
    "    def keys(self):\n",
    "        return self.attrs.keys()\n",
    "    \n",
    "    def info(self):\n",
    "        for key, val in self.attrs.items():\n",
    "            if type(val) is str:\n",
    "                print(f\"{key}: {val}\")\n",
    "            elif type(val) is list:\n",
    "                print(\"{}: {}\".format(key, \", \".join(val)))\n",
    "                "
   ]
  },
  {
   "cell_type": "code",
   "execution_count": 123,
   "metadata": {},
   "outputs": [],
   "source": [
    "def dictionarize(url):\n",
    "    site = requests.get(url)\n",
    "    infobox = bs(site.content, \"html.parser\").find(class_=\"infobox vevent\")\n",
    "    categories = infobox.find_all(\"tr\")\n",
    "    \n",
    "    for i, content in enumerate(categories):\n",
    "        categories[i] = content.get_text()\n",
    "\n",
    "    dictionary = {}\n",
    "    dictionary[\"Title\"] = categories[0]\n",
    "    \n",
    "    for i in range(2, len(categories)):\n",
    "        info = categories[i]\n",
    "        if \"by\" in info:\n",
    "            key, val = info.split(\" by\")\n",
    "            val.strip(), key.strip()\n",
    "            val = list(filter(lambda x: x != \"\", val.split(\"\\n\")))\n",
    "            dictionary[key] = val\n",
    "        elif \"$\" in info:\n",
    "            key, val = info.split(\"$\")\n",
    "            dictionary[key] = val.strip(\"[1]\")\n",
    "        else:\n",
    "            key = \"\"\n",
    "            is_capital = False\n",
    "            for i, c in enumerate(info):\n",
    "                if c.isupper() and is_capital:\n",
    "                    dictionary[key.strip()] = list(filter(lambda x: x != \"\", info[i:].split(\"\\n\")))\n",
    "                    break\n",
    "                if c.isupper() and not is_capital:\n",
    "                    is_capital = True\n",
    "                key += c\n",
    "               \n",
    "    return dictionary\n",
    "            \n",
    "    "
   ]
  },
  {
   "cell_type": "code",
   "execution_count": 124,
   "metadata": {},
   "outputs": [],
   "source": [
    "nemo = Movie(\"https://en.wikipedia.org/wiki/Finding_Nemo\")"
   ]
  },
  {
   "cell_type": "code",
   "execution_count": 125,
   "metadata": {},
   "outputs": [
    {
     "data": {
      "text/plain": [
       "dict_keys(['Title', 'Directed', 'Produced', 'Screenplay', 'Story', 'Starring', 'Music', 'Cinematography', 'Edited', 'Productioncompany', 'Distributed', 'Release date', 'Country', 'Language', 'Budget', 'Box office'])"
      ]
     },
     "execution_count": 125,
     "metadata": {},
     "output_type": "execute_result"
    }
   ],
   "source": [
    "nemo.keys()"
   ]
  },
  {
   "cell_type": "code",
   "execution_count": 126,
   "metadata": {},
   "outputs": [
    {
     "name": "stdout",
     "output_type": "stream",
     "text": [
      "Title: Finding Nemo\n",
      "Directed: Andrew Stanton\n",
      "Produced: Graham Walters\n",
      "Screenplay: Andrew Stanton, Bob Peterson, David Reynolds\n",
      "Story: Andrew Stanton\n",
      "Starring: Albert Brooks, Ellen DeGeneres, Alexander Gould, Willem Dafoe\n",
      "Music: Thomas Newman\n",
      "Cinematography: Sharon Calahan, Jeremy Lasky\n",
      "Edited: David Ian Salter\n",
      "Productioncompany: Walt Disney Pictures, Pixar Animation Studios\n",
      "Distributed: Buena Vista Pictures Distribution\n",
      "Release date: May 30, 2003 (2003-05-30)\n",
      "Country: United States\n",
      "Language: English\n",
      "Budget: 94 million\n",
      "Box office: 940.3 million\n"
     ]
    }
   ],
   "source": [
    "nemo.info()"
   ]
  }
 ],
 "metadata": {
  "kernelspec": {
   "display_name": "Python 3",
   "language": "python",
   "name": "python3"
  },
  "language_info": {
   "codemirror_mode": {
    "name": "ipython",
    "version": 3
   },
   "file_extension": ".py",
   "mimetype": "text/x-python",
   "name": "python",
   "nbconvert_exporter": "python",
   "pygments_lexer": "ipython3",
   "version": "3.9.0"
  }
 },
 "nbformat": 4,
 "nbformat_minor": 2
}
